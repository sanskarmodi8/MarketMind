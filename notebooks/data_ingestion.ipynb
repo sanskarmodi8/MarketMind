{
 "cells": [
  {
   "cell_type": "markdown",
   "id": "5868fa2b",
   "metadata": {},
   "source": [
    "### Imports"
   ]
  },
  {
   "cell_type": "code",
   "execution_count": 9,
   "id": "aa37cf90",
   "metadata": {},
   "outputs": [],
   "source": [
    "import yfinance as yf"
   ]
  },
  {
   "cell_type": "markdown",
   "id": "a0dc9cbf",
   "metadata": {},
   "source": [
    "### Fetch data"
   ]
  },
  {
   "cell_type": "code",
   "execution_count": null,
   "id": "6ea95faf",
   "metadata": {},
   "outputs": [],
   "source": [
    "ASSET = \"BTC-USD\"\n",
    "START_DATE = \"2017-01-01\"\n",
    "END_DATE = \"2025-01-01\""
   ]
  },
  {
   "cell_type": "code",
   "execution_count": 11,
   "id": "2e017cea",
   "metadata": {},
   "outputs": [
    {
     "name": "stderr",
     "output_type": "stream",
     "text": [
      "/tmp/ipykernel_312011/3125909057.py:1: FutureWarning: YF.download() has changed argument auto_adjust default to True\n",
      "  df = yf.download(ASSET, start=START_DATE, end=END_DATE)\n",
      "[*********************100%***********************]  1 of 1 completed"
     ]
    },
    {
     "name": "stdout",
     "output_type": "stream",
     "text": [
      "Downloaded 2922 rows of data.\n"
     ]
    },
    {
     "name": "stderr",
     "output_type": "stream",
     "text": [
      "\n"
     ]
    },
    {
     "data": {
      "text/html": [
       "<div>\n",
       "<style scoped>\n",
       "    .dataframe tbody tr th:only-of-type {\n",
       "        vertical-align: middle;\n",
       "    }\n",
       "\n",
       "    .dataframe tbody tr th {\n",
       "        vertical-align: top;\n",
       "    }\n",
       "\n",
       "    .dataframe thead tr th {\n",
       "        text-align: left;\n",
       "    }\n",
       "\n",
       "    .dataframe thead tr:last-of-type th {\n",
       "        text-align: right;\n",
       "    }\n",
       "</style>\n",
       "<table border=\"1\" class=\"dataframe\">\n",
       "  <thead>\n",
       "    <tr>\n",
       "      <th>Price</th>\n",
       "      <th>Close</th>\n",
       "      <th>High</th>\n",
       "      <th>Low</th>\n",
       "      <th>Open</th>\n",
       "      <th>Volume</th>\n",
       "    </tr>\n",
       "    <tr>\n",
       "      <th>Ticker</th>\n",
       "      <th>BTC-USD</th>\n",
       "      <th>BTC-USD</th>\n",
       "      <th>BTC-USD</th>\n",
       "      <th>BTC-USD</th>\n",
       "      <th>BTC-USD</th>\n",
       "    </tr>\n",
       "    <tr>\n",
       "      <th>Date</th>\n",
       "      <th></th>\n",
       "      <th></th>\n",
       "      <th></th>\n",
       "      <th></th>\n",
       "      <th></th>\n",
       "    </tr>\n",
       "  </thead>\n",
       "  <tbody>\n",
       "    <tr>\n",
       "      <th>2017-01-01</th>\n",
       "      <td>998.325012</td>\n",
       "      <td>1003.080017</td>\n",
       "      <td>958.698975</td>\n",
       "      <td>963.658020</td>\n",
       "      <td>147775008</td>\n",
       "    </tr>\n",
       "    <tr>\n",
       "      <th>2017-01-02</th>\n",
       "      <td>1021.750000</td>\n",
       "      <td>1031.390015</td>\n",
       "      <td>996.702026</td>\n",
       "      <td>998.617004</td>\n",
       "      <td>222184992</td>\n",
       "    </tr>\n",
       "    <tr>\n",
       "      <th>2017-01-03</th>\n",
       "      <td>1043.839966</td>\n",
       "      <td>1044.079956</td>\n",
       "      <td>1021.599976</td>\n",
       "      <td>1021.599976</td>\n",
       "      <td>185168000</td>\n",
       "    </tr>\n",
       "    <tr>\n",
       "      <th>2017-01-04</th>\n",
       "      <td>1154.729980</td>\n",
       "      <td>1159.420044</td>\n",
       "      <td>1044.400024</td>\n",
       "      <td>1044.400024</td>\n",
       "      <td>344945984</td>\n",
       "    </tr>\n",
       "    <tr>\n",
       "      <th>2017-01-05</th>\n",
       "      <td>1013.380005</td>\n",
       "      <td>1191.099976</td>\n",
       "      <td>910.416992</td>\n",
       "      <td>1156.729980</td>\n",
       "      <td>510199008</td>\n",
       "    </tr>\n",
       "  </tbody>\n",
       "</table>\n",
       "</div>"
      ],
      "text/plain": [
       "Price             Close         High          Low         Open     Volume\n",
       "Ticker          BTC-USD      BTC-USD      BTC-USD      BTC-USD    BTC-USD\n",
       "Date                                                                     \n",
       "2017-01-01   998.325012  1003.080017   958.698975   963.658020  147775008\n",
       "2017-01-02  1021.750000  1031.390015   996.702026   998.617004  222184992\n",
       "2017-01-03  1043.839966  1044.079956  1021.599976  1021.599976  185168000\n",
       "2017-01-04  1154.729980  1159.420044  1044.400024  1044.400024  344945984\n",
       "2017-01-05  1013.380005  1191.099976   910.416992  1156.729980  510199008"
      ]
     },
     "execution_count": 11,
     "metadata": {},
     "output_type": "execute_result"
    }
   ],
   "source": [
    "df = yf.download(ASSET, start=START_DATE, end=END_DATE)\n",
    "print(f\"Downloaded {len(df)} rows of data.\")\n",
    "df.head()"
   ]
  },
  {
   "cell_type": "code",
   "execution_count": 12,
   "id": "e1db76a9",
   "metadata": {},
   "outputs": [
    {
     "data": {
      "text/plain": [
       "MultiIndex([( 'Close', 'BTC-USD'),\n",
       "            (  'High', 'BTC-USD'),\n",
       "            (   'Low', 'BTC-USD'),\n",
       "            (  'Open', 'BTC-USD'),\n",
       "            ('Volume', 'BTC-USD')],\n",
       "           names=['Price', 'Ticker'])"
      ]
     },
     "execution_count": 12,
     "metadata": {},
     "output_type": "execute_result"
    }
   ],
   "source": [
    "df.columns"
   ]
  },
  {
   "cell_type": "code",
   "execution_count": 13,
   "id": "98ab47e0",
   "metadata": {},
   "outputs": [],
   "source": [
    "df.columns = df.columns.droplevel(1)"
   ]
  },
  {
   "cell_type": "code",
   "execution_count": 14,
   "id": "4f9fef0a",
   "metadata": {},
   "outputs": [],
   "source": [
    "df.to_csv(\"data.csv\", index=True)"
   ]
  }
 ],
 "metadata": {
  "kernelspec": {
   "display_name": "atbvenv",
   "language": "python",
   "name": "python3"
  },
  "language_info": {
   "codemirror_mode": {
    "name": "ipython",
    "version": 3
   },
   "file_extension": ".py",
   "mimetype": "text/x-python",
   "name": "python",
   "nbconvert_exporter": "python",
   "pygments_lexer": "ipython3",
   "version": "3.10.18"
  }
 },
 "nbformat": 4,
 "nbformat_minor": 5
}
